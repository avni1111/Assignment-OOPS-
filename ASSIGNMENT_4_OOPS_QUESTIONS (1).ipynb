{
  "nbformat": 4,
  "nbformat_minor": 0,
  "metadata": {
    "colab": {
      "provenance": []
    },
    "kernelspec": {
      "name": "python3",
      "display_name": "Python 3"
    },
    "language_info": {
      "name": "python"
    }
  },
  "cells": [
    {
      "cell_type": "markdown",
      "source": [
        "1.What is Object-Oriented Programming (OOP)?\n",
        "-OOP is a programming paradigm that uses objects and classes to structure software. It allows for concepts like encapsulation, inheritance, and polymorphism."
      ],
      "metadata": {
        "id": "pxuNL4MrxFui"
      }
    },
    {
      "cell_type": "markdown",
      "source": [
        "2.What is a class in OOP?\n",
        "-A class is a blueprint for creating objects. It defines attributes and methods that its objects (instances) will have."
      ],
      "metadata": {
        "id": "veA61J11xUG3"
      }
    },
    {
      "cell_type": "markdown",
      "source": [
        "3.What is an object in OOP?\n",
        "- An object is an instance of a class. It contains data and behaviors defined by the class."
      ],
      "metadata": {
        "id": "xUdr6fQXxiGn"
      }
    },
    {
      "cell_type": "markdown",
      "source": [
        "4.What is the difference between abstraction and encapsulation?\n",
        "\n",
        "Abstraction hides complex implementation details and shows only the necessary features.\n",
        "\n",
        "Encapsulation restricts direct access to an object’s data and methods, often using access modifiers."
      ],
      "metadata": {
        "id": "56LRxIqeyKUm"
      }
    },
    {
      "cell_type": "markdown",
      "source": [
        "5.What are dunder methods in Python?\n",
        " -Dunderdouble underscore methods like init, __str, and __add are special methods with double underscores before and after their names. They're used to define behavior for operators and built-in functions."
      ],
      "metadata": {
        "id": "AL53ZwNQyTHQ"
      }
    },
    {
      "cell_type": "markdown",
      "source": [
        "6.Explain the concept of inheritance in OOP.\n",
        "- Inheritance allows a class (child) to acquire properties and behaviors (methods) from another class (parent).\n",
        "\n"
      ],
      "metadata": {
        "id": "o5eop4KkywBY"
      }
    },
    {
      "cell_type": "markdown",
      "source": [
        "7.What is polymorphism in OOP? -Polymorphism allows objects of different classes to be treated as objects of a common superclass. It enables methods to behave differently based on the object."
      ],
      "metadata": {
        "id": "12j_uj_wy4PB"
      }
    },
    {
      "cell_type": "markdown",
      "source": [
        "8.How is encapsulation achieved in Python?\n",
        "- Encapsulation is achieved using private (var) and protected (_var) access modifiers and by defining class methods to access and modify data."
      ],
      "metadata": {
        "id": "bf4_xb9PzBl3"
      }
    },
    {
      "cell_type": "markdown",
      "source": [
        "9.What is a constructor in Python?\n",
        "- A constructor is a special method (init) that is automatically called when an object is instantiated."
      ],
      "metadata": {
        "id": "aNzmerExzHXF"
      }
    },
    {
      "cell_type": "markdown",
      "source": [
        "10.What are class and static methods in Python?\n",
        "\n",
        "-Class method uses @classmethod and takes cls as its first argument.\n",
        "\n",
        "Static method uses @staticmethod and doesn't take self or cls as a first parameter."
      ],
      "metadata": {
        "id": "AFZ9esOCzSTh"
      }
    },
    {
      "cell_type": "markdown",
      "source": [
        "11.What is method overloading in Python?- Python does not support method overloading directly. It can be achieved by using default arguments or variable-length arguments."
      ],
      "metadata": {
        "id": "z9YtmzVOzeUb"
      }
    },
    {
      "cell_type": "markdown",
      "source": [
        "12.What is method overriding in OOP? -Method overriding is when a subclass provides a specific implementation of a method that is already defined in its superclass."
      ],
      "metadata": {
        "id": "y90uhimfzk0L"
      }
    },
    {
      "cell_type": "markdown",
      "source": [
        "13.What is a property decorator in Python?\n",
        "-The @property decorator allows you to define a method that can be accessed like an attribute, enabling getter/setter functionality."
      ],
      "metadata": {
        "id": "dzjAJGu3ztec"
      }
    },
    {
      "cell_type": "markdown",
      "source": [
        "14.Why is polymorphism important in OOP?\n",
        "-Polymorphism increases flexibility and scalability by allowing functions to use objects of different types interchangeably."
      ],
      "metadata": {
        "id": "tJSAZh3Fz2pa"
      }
    },
    {
      "cell_type": "markdown",
      "source": [
        "15.What is an abstract class in Python? An abstract class cannot be instantiated and usually contains abstract methods that must be implemented by subclasses. It is defined using the abc module."
      ],
      "metadata": {
        "id": "v8F6A8mi0CM-"
      }
    },
    {
      "cell_type": "markdown",
      "source": [
        "16.What are the advantages of OOP?\n",
        "\n",
        "Reusability via inheritance\n",
        "\n",
        "Encapsulation for data protection\n",
        "\n",
        "Easier maintenance\n",
        "\n",
        "Polymorphism for flexibility\n",
        "\n",
        "Modularity"
      ],
      "metadata": {
        "id": "YTIV7yRh0KCG"
      }
    },
    {
      "cell_type": "markdown",
      "source": [
        "17.What is the difference between a class variable and an instance variable?\n",
        "Class variable is shared among all instances of a class.\n",
        "\n",
        "Instance variable is unique to each instance."
      ],
      "metadata": {
        "id": "_LTZKznG0PdB"
      }
    },
    {
      "cell_type": "markdown",
      "source": [
        "18.What is multiple inheritance in Python?\n",
        "-Multiple inheritance is when a class inherits from more than one parent class.\n",
        "\n",
        "19.Explain the purpose of str and repr methods in Python.\n",
        "\n",
        "str: Returns a readable string representation of an object (used by print()).\n",
        "\n",
        "repr: Returns an unambiguous representation of the object, useful for debugging.\n",
        "\n",
        "\n"
      ],
      "metadata": {
        "id": "rO4EMXwU0v1p"
      }
    },
    {
      "cell_type": "markdown",
      "source": [
        "20.What is the significance of the super() function in Python?\n",
        "-super() is used to call methods from a parent class, especially useful in method overriding and multiple inheritance."
      ],
      "metadata": {
        "id": "xpWMYBlX1OKb"
      }
    },
    {
      "cell_type": "markdown",
      "source": [
        "21.What is the significance of the del method in Python?\n",
        "- del is a destructor method called when an object is about to be destroyed to clean up resources."
      ],
      "metadata": {
        "id": "BfCMcCf81Vud"
      }
    },
    {
      "cell_type": "markdown",
      "source": [
        "22.What is the difference between @staticmethod and @classmethod in Python?\n",
        "\n",
        "@staticmethod does not access class or instance data.\n",
        "\n",
        "@classmethod accesses class-level data and takes cls as its argument."
      ],
      "metadata": {
        "id": "vkc0l6cI1anG"
      }
    },
    {
      "cell_type": "markdown",
      "source": [
        "23.How does polymorphism work in Python with inheritance?\n",
        "With inheritance, polymorphism allows a child class to override parent methods, and the correct method is called based on the object type."
      ],
      "metadata": {
        "id": "FJReF_L_1jQy"
      }
    },
    {
      "cell_type": "markdown",
      "source": [
        "24.What is method chaining in Python OOP?\n",
        " -Method chaining allows multiple methods to be called in a single line by returning self from each method."
      ],
      "metadata": {
        "id": "gBc_omid1oDg"
      }
    },
    {
      "cell_type": "markdown",
      "source": [
        "25.What is the purpose of the call method in python?\n",
        " -The call method in Python lets an object be called like a function. It's useful for creating callable objects, often used in decorators, wrappers, or when you want objects to have function-like behavior."
      ],
      "metadata": {
        "id": "Frx7ZizV1t7A"
      }
    },
    {
      "cell_type": "markdown",
      "source": [
        "PRACTICLE CODE OF OOPS"
      ],
      "metadata": {
        "id": "H6D5vo4z10Jm"
      }
    },
    {
      "cell_type": "code",
      "source": [
        "# 1. Parent class Animal with child class Dog overriding speak() method:\n"
      ],
      "metadata": {
        "id": "jI02XZTTyJZW"
      },
      "execution_count": 1,
      "outputs": []
    },
    {
      "cell_type": "code",
      "source": [
        "class Animal:\n",
        "    def speak(self):\n",
        "        print(\"Animal speaks\")\n",
        "\n",
        "class Dog(Animal):\n",
        "    def speak(self):\n",
        "        print(\"Bark\")\n",
        "\n",
        "d = Dog()\n",
        "d.speak()\n"
      ],
      "metadata": {
        "colab": {
          "base_uri": "https://localhost:8080/",
          "height": 0
        },
        "id": "9tggjtLU1-0i",
        "outputId": "922fc388-0068-4108-fe06-6ae36fad3fcd"
      },
      "execution_count": 2,
      "outputs": [
        {
          "output_type": "stream",
          "name": "stdout",
          "text": [
            "Bark\n"
          ]
        }
      ]
    },
    {
      "cell_type": "code",
      "source": [
        "# 2. Abstract class Shape with method area() and subclasses Circle, Rectangle:\n",
        "\n",
        "from abc import ABC, abstractmethod\n",
        "import math\n",
        "\n",
        "class Shape(ABC):\n",
        "    @abstractmethod\n",
        "    def area(self):\n",
        "        pass\n",
        "\n",
        "class Circle(Shape):\n",
        "    def __init__(self, radius):\n",
        "        self.radius = radius\n",
        "\n",
        "    def area(self):\n",
        "        return math.pi * self.radius ** 2\n",
        "\n",
        "class Rectangle(Shape):\n",
        "    def __init__(self, length, breadth):\n",
        "        self.length = length\n",
        "        self.breadth = breadth\n",
        "\n",
        "    def area(self):\n",
        "        return self.length * self.breadth\n",
        "\n"
      ],
      "metadata": {
        "id": "3wka1iq72Dwb"
      },
      "execution_count": 4,
      "outputs": []
    },
    {
      "cell_type": "code",
      "source": [
        "# 3. Multi-level inheritance: Vehicle → Car → ElectricCar\n",
        "\n",
        "class Vehicle:\n",
        "    def __init__(self, type):\n",
        "        self.type = type\n",
        "\n",
        "class Car(Vehicle):\n",
        "    def __init__(self, type, model):\n",
        "        super().__init__(type)\n",
        "        self.model = model\n",
        "\n",
        "class ElectricCar(Car):\n",
        "    def __init__(self, type, model, battery):\n",
        "        super().__init__(type, model)\n",
        "        self.battery = battery\n",
        "\n"
      ],
      "metadata": {
        "id": "AsPKA22G27fN"
      },
      "execution_count": 5,
      "outputs": []
    },
    {
      "cell_type": "code",
      "source": [
        "# 4. Demonstrate polymorphism with base class Bird and derived classes:\n",
        "\n",
        "class Bird:\n",
        "    def fly(self):\n",
        "        print(\"Some birds can fly\")\n",
        "\n",
        "class Sparrow(Bird):\n",
        "    def fly(self):\n",
        "        print(\"Sparrow flies\")\n",
        "\n",
        "class Penguin(Bird):\n",
        "    def fly(self):\n",
        "        print(\"Penguins cannot fly\")\n"
      ],
      "metadata": {
        "id": "P3n2kcH-3OjA"
      },
      "execution_count": 6,
      "outputs": []
    },
    {
      "cell_type": "code",
      "source": [
        "7\n",
        "# 1. Parent class Animal with child class Dog overriding speak() method:\n",
        "\n",
        "class Animal:\n",
        "    def speak(self):\n",
        "        print(\"Animal speaks\")\n",
        "\n",
        "class Dog(Animal):\n",
        "    def speak(self):\n",
        "        print(\"Bark\")\n",
        "\n",
        "d = Dog()\n",
        "d.speak()\n",
        "\n",
        "\n",
        "# ---\n",
        "\n",
        "# 2. Abstract class Shape with method area() and subclasses Circle, Rectangle:\n",
        "\n",
        "from abc import ABC, abstractmethod\n",
        "import math\n",
        "\n",
        "class Shape(ABC):\n",
        "    @abstractmethod\n",
        "    def area(self):\n",
        "        pass\n",
        "\n",
        "class Circle(Shape):\n",
        "    def __init__(self, radius):\n",
        "        self.radius = radius\n",
        "\n",
        "    def area(self):\n",
        "        return math.pi * self.radius ** 2\n",
        "\n",
        "class Rectangle(Shape):\n",
        "    def __init__(self, length, breadth):\n",
        "        self.length = length\n",
        "        self.breadth = breadth\n",
        "\n",
        "    def area(self):\n",
        "        return self.length * self.breadth\n",
        "\n",
        "\n",
        "# ---\n",
        "\n",
        "# 3. Multi-level inheritance: Vehicle → Car → ElectricCar\n",
        "\n",
        "class Vehicle:\n",
        "    def __init__(self, type):\n",
        "        self.type = type\n",
        "\n",
        "class Car(Vehicle):\n",
        "    def __init__(self, type, model):\n",
        "        super().__init__(type)\n",
        "        self.model = model\n",
        "\n",
        "class ElectricCar(Car):\n",
        "    def __init__(self, type, model, battery):\n",
        "        super().__init__(type, model)\n",
        "        self.battery = battery\n",
        "\n",
        "\n",
        "# ---\n",
        "\n",
        "# 4. Demonstrate polymorphism with base class Bird and derived classes:\n",
        "\n",
        "class Bird:\n",
        "    def fly(self):\n",
        "        print(\"Some birds can fly\")\n",
        "\n",
        "class Sparrow(Bird):\n",
        "    def fly(self):\n",
        "        print(\"Sparrow flies\")\n",
        "\n",
        "class Penguin(Bird):\n",
        "    def fly(self):\n",
        "        print(\"Penguins cannot fly\")\n",
        "\n",
        "\n",
        "# ---\n",
        "\n",
        "# 5. Class BankAccount with private attributes:\n",
        "\n",
        "class BankAccount:\n",
        "    def __init__(self, balance):\n",
        "        self.__balance = balance\n",
        "\n",
        "    def deposit(self, amount):\n",
        "        self.__balance += amount\n",
        "\n",
        "    def withdraw(self, amount):\n",
        "        if amount <= self.__balance:\n",
        "            self.__balance -= amount\n",
        "\n",
        "    def check_balance(self):\n",
        "        return self.__balance\n"
      ],
      "metadata": {
        "colab": {
          "base_uri": "https://localhost:8080/",
          "height": 0
        },
        "id": "8czUxwlC3R1E",
        "outputId": "5aab5677-9f4a-4ee2-cfbe-c2093547f77f"
      },
      "execution_count": 7,
      "outputs": [
        {
          "output_type": "stream",
          "name": "stdout",
          "text": [
            "Bark\n"
          ]
        }
      ]
    },
    {
      "cell_type": "code",
      "source": [
        "#6. Method overloading with play() in Instrument and derived classes:\n",
        "\n",
        "class Instrument:\n",
        "    def play(self):\n",
        "        print(\"Playing an instrument\")\n",
        "\n",
        "class Guitar(Instrument):\n",
        "    def play(self):\n",
        "        print(\"Strumming the guitar\")\n",
        "\n",
        "class Piano(Instrument):\n",
        "    def play(self):\n",
        "        print(\"Playing the piano\")"
      ],
      "metadata": {
        "id": "D-u2i2pW3Ymv"
      },
      "execution_count": 8,
      "outputs": []
    },
    {
      "cell_type": "code",
      "source": [
        " #7. Class with class and static methods for math operations:\n",
        "\n",
        "class MathOperations:\n",
        "    @classmethod\n",
        "    def add_numbers(cls, a, b):\n",
        "        return a + b\n",
        "\n",
        "    @staticmethod\n",
        "    def subtract_numbers(a, b):\n",
        "        return a - b\n",
        "\n"
      ],
      "metadata": {
        "id": "OZqKSP2R3iQ6"
      },
      "execution_count": 9,
      "outputs": []
    },
    {
      "cell_type": "code",
      "source": [
        "# 8. Class Person with class method to count instances:\n",
        "\n",
        "class Person:\n",
        "    count = 0\n",
        "\n",
        "    def __init__(self, name):\n",
        "        self.name = name\n",
        "        Person.count += 1\n",
        "\n",
        "    @classmethod\n",
        "    def get_count(cls):\n",
        "        return cls.count\n",
        "\n"
      ],
      "metadata": {
        "id": "cbzR_BXp3npa"
      },
      "execution_count": 10,
      "outputs": []
    },
    {
      "cell_type": "code",
      "source": [
        "\n",
        "# 1. Parent class Animal with child class Dog overriding speak() method:\n",
        "\n",
        "class Animal:\n",
        "    def speak(self):\n",
        "        print(\"Animal speaks\")\n",
        "\n",
        "class Dog(Animal):\n",
        "    def speak(self):\n",
        "        print(\"Bark\")\n",
        "\n",
        "d = Dog()\n",
        "d.speak()\n",
        "\n",
        "\n",
        "# ---\n",
        "\n",
        "# 2. Abstract class Shape with method area() and subclasses Circle, Rectangle:\n",
        "\n",
        "from abc import ABC, abstractmethod\n",
        "import math\n",
        "\n",
        "class Shape(ABC):\n",
        "    @abstractmethod\n",
        "    def area(self):\n",
        "        pass\n",
        "\n",
        "class Circle(Shape):\n",
        "    def __init__(self, radius):\n",
        "        self.radius = radius\n",
        "\n",
        "    def area(self):\n",
        "        return math.pi * self.radius ** 2\n",
        "\n",
        "class Rectangle(Shape):\n",
        "    def __init__(self, length, breadth):\n",
        "        self.length = length\n",
        "        self.breadth = breadth\n",
        "\n",
        "    def area(self):\n",
        "        return self.length * self.breadth\n",
        "\n",
        "\n",
        "# ---\n",
        "\n",
        "# 3. Multi-level inheritance: Vehicle → Car → ElectricCar\n",
        "\n",
        "class Vehicle:\n",
        "    def __init__(self, type):\n",
        "        self.type = type\n",
        "\n",
        "class Car(Vehicle):\n",
        "    def __init__(self, type, model):\n",
        "        super().__init__(type)\n",
        "        self.model = model\n",
        "\n",
        "class ElectricCar(Car):\n",
        "    def __init__(self, type, model, battery):\n",
        "        super().__init__(type, model)\n",
        "        self.battery = battery\n",
        "\n",
        "\n",
        "# ---\n",
        "\n",
        "# 4. Demonstrate polymorphism with base class Bird and derived classes:\n",
        "\n",
        "class Bird:\n",
        "    def fly(self):\n",
        "        print(\"Some birds can fly\")\n",
        "\n",
        "class Sparrow(Bird):\n",
        "    def fly(self):\n",
        "        print(\"Sparrow flies\")\n",
        "\n",
        "class Penguin(Bird):\n",
        "    def fly(self):\n",
        "        print(\"Penguins cannot fly\")\n",
        "\n",
        "\n",
        "# ---\n",
        "\n",
        "# 5. Class BankAccount with private attributes:\n",
        "\n",
        "class BankAccount:\n",
        "    def __init__(self, balance):\n",
        "        self.__balance = balance\n",
        "\n",
        "    def deposit(self, amount):\n",
        "        self.__balance += amount\n",
        "\n",
        "    def withdraw(self, amount):\n",
        "        if amount <= self.__balance:\n",
        "            self.__balance -= amount\n",
        "\n",
        "    def check_balance(self):\n",
        "        return self.__balance\n",
        "\n",
        "\n",
        "# ---\n",
        "\n",
        "# 6. Method overloading with play() in Instrument and derived classes:\n",
        "\n",
        "class Instrument:\n",
        "    def play(self):\n",
        "        print(\"Playing an instrument\")\n",
        "\n",
        "class Guitar(Instrument):\n",
        "    def play(self):\n",
        "        print(\"Strumming the guitar\")\n",
        "\n",
        "class Piano(Instrument):\n",
        "    def play(self):\n",
        "        print(\"Playing the piano\")\n",
        "\n",
        "\n",
        "# ---\n",
        "\n",
        "# 7. Class with class and static methods for math operations:\n",
        "\n",
        "class MathOperations:\n",
        "    @classmethod\n",
        "    def add_numbers(cls, a, b):\n",
        "        return a + b\n",
        "\n",
        "    @staticmethod\n",
        "    def subtract_numbers(a, b):\n",
        "        return a - b\n",
        "\n",
        "\n",
        "# ---\n",
        "\n",
        "# 8. Class Person with class method to count instances:\n",
        "\n",
        "class Person:\n",
        "    count = 0\n",
        "\n",
        "    def __init__(self, name):\n",
        "        self.name = name\n",
        "        Person.count += 1\n",
        "\n",
        "    @classmethod\n",
        "    def get_count(cls):\n",
        "        return cls.count\n",
        "\n",
        "\n",
        "# ---\n",
        "\n",
        "# 9. Fraction class with __str__() method override:\n",
        "\n",
        "class Fraction:\n",
        "    def __init__(self, numerator, denominator):\n",
        "        self.numerator = numerator\n",
        "        self.denominator = denominator\n",
        "\n",
        "    def __str__(self):\n",
        "        return f\"{self.numerator}/{self.denominator}\""
      ],
      "metadata": {
        "colab": {
          "base_uri": "https://localhost:8080/",
          "height": 0
        },
        "id": "4PLgSC0O3rAW",
        "outputId": "9bb4667b-8b68-4643-aa1f-7b5eee3c1797"
      },
      "execution_count": 11,
      "outputs": [
        {
          "output_type": "stream",
          "name": "stdout",
          "text": [
            "Bark\n"
          ]
        }
      ]
    },
    {
      "cell_type": "code",
      "source": [
        "#10. Operator overloading in Vector class for addition:\n",
        "\n",
        "class Vector:\n",
        "    def __init__(self, x, y):\n",
        "        self.x = x\n",
        "        self.y = y\n",
        "\n",
        "    def __add__(self, other):\n",
        "        return Vector(self.x + other.x, self.y + other.y)\n",
        "\n",
        "    def __str__(self):\n",
        "        return f\"Vector({self.x}, {self.y})\"\n"
      ],
      "metadata": {
        "id": "159pILsh3u7N"
      },
      "execution_count": 13,
      "outputs": []
    },
    {
      "cell_type": "code",
      "source": [
        "# 11. Class Person with name and age, method greet():\n",
        "\n",
        "class Person:\n",
        "    def __init__(self, name, age):\n",
        "        self.name = name\n",
        "        self.age = age\n",
        "\n",
        "    def greet(self):\n",
        "        print(f\"Hello, my name is {self.name} and I am {self.age} years old.\")\n",
        "\n",
        "# 1. Parent class Animal with child class Dog overriding speak() method:\n",
        "\n",
        "class Animal:\n",
        "    def speak(self):\n",
        "        print(\"Animal speaks\")\n",
        "\n",
        "class Dog(Animal):\n",
        "    def speak(self):\n",
        "        print(\"Bark\")\n",
        "\n",
        "d = Dog()\n",
        "d.speak()\n"
      ],
      "metadata": {
        "colab": {
          "base_uri": "https://localhost:8080/",
          "height": 0
        },
        "id": "BPFeakV_31BQ",
        "outputId": "52aa774e-085a-48eb-cf84-d95ed51426c3"
      },
      "execution_count": 14,
      "outputs": [
        {
          "output_type": "stream",
          "name": "stdout",
          "text": [
            "Bark\n"
          ]
        }
      ]
    },
    {
      "cell_type": "code",
      "source": [
        "# 12. Class Student with method to compute average grade:\n",
        "\n",
        "class Student:\n",
        "    def __init__(self, name, grades):\n",
        "        self.name = name\n",
        "        self.grades = grades\n",
        "\n",
        "    def average_grade(self):\n",
        "        return sum(self.grades) / len(self.grades)\n",
        "\n"
      ],
      "metadata": {
        "id": "QNLPOKMl4G0i"
      },
      "execution_count": 15,
      "outputs": []
    },
    {
      "cell_type": "code",
      "source": [
        "# 13. Class Rectangle with methods to set dimensions and calculate area:\n",
        "\n",
        "class Rectangle:\n",
        "    def set_dimensions(self, length, width):\n",
        "        self.length = length\n",
        "        self.width = width\n",
        "\n",
        "    def area(self):\n",
        "        return self.length * self.width\n"
      ],
      "metadata": {
        "id": "nJsZyxBa4Jbv"
      },
      "execution_count": 16,
      "outputs": []
    },
    {
      "cell_type": "code",
      "source": [
        "# 14. Class Employee with method to calculate salary, subclass Manager with bonus:\n",
        "\n",
        "class Employee:\n",
        "    def __init__(self, hours, rate):\n",
        "        self.hours = hours\n",
        "        self.rate = rate\n",
        "\n",
        "    def calculate_salary(self):\n",
        "        return self.hours * self.rate\n",
        "\n",
        "class Manager(Employee):\n",
        "    def __init__(self, hours, rate, bonus):\n",
        "        super().__init__(hours, rate)\n",
        "        self.bonus = bonus\n",
        "\n",
        "    def calculate_salary(self):\n",
        "        return super().calculate_salary() + self.bonus\n",
        "\n",
        "\n",
        "# ---"
      ],
      "metadata": {
        "id": "cTEL58KB4Lmm"
      },
      "execution_count": 17,
      "outputs": []
    },
    {
      "cell_type": "code",
      "source": [
        "# 15. Class Product to compute total price:\n",
        "\n",
        "class Product:\n",
        "    def __init__(self, name, price, quantity):\n",
        "        self.name = name\n",
        "        self.price = price\n",
        "        self.quantity = quantity\n",
        "\n",
        "    def total_price(self):\n",
        "        return self.price * self.quantity"
      ],
      "metadata": {
        "id": "44KXW7Sd4OtO"
      },
      "execution_count": 18,
      "outputs": []
    },
    {
      "cell_type": "code",
      "source": [
        "# 16. Abstract class Animal with derived classes Cow and Sheep:\n",
        "\n",
        "from abc import ABC, abstractmethod\n",
        "\n",
        "class Animal(ABC):\n",
        "    @abstractmethod\n",
        "    def sound(self):\n",
        "        pass\n",
        "\n",
        "class Cow(Animal):\n",
        "    def sound(self):\n",
        "        print(\"Moo\")\n",
        "\n",
        "class Sheep(Animal):\n",
        "    def sound(self):\n",
        "        print(\"Baa\")\n",
        "\n"
      ],
      "metadata": {
        "id": "PLgQ15NU4RZ9"
      },
      "execution_count": 20,
      "outputs": []
    },
    {
      "cell_type": "code",
      "source": [
        "#17. Class Book with method to return book info:\n",
        "\n",
        "class Book:\n",
        "    def __init__(self, title, author, year_published):\n",
        "        self.title = title\n",
        "        self.author = author\n",
        "        self.year_published = year_published\n",
        "\n",
        "    def get_book_info(self):\n",
        "        return f\"{self.title} by {self.author}, published in {self.year_published}\"\n",
        "\n"
      ],
      "metadata": {
        "id": "CyMVu1sQ4UFe"
      },
      "execution_count": 22,
      "outputs": []
    },
    {
      "cell_type": "code",
      "source": [
        " #18. Class House and derived class Mansion with extra attribute:\n",
        "\n",
        "class House:\n",
        "    def __init__(self, address, price):\n",
        "        self.address = address\n",
        "        self.price = price\n",
        "\n",
        "class Mansion(House):\n",
        "    def __init__(self, address, price, number_of_rooms):\n",
        "        super().__init__(address, price)\n",
        "        self.number_of_rooms = number_of_rooms\n",
        "    def _init_(self, name, grades):\n",
        "        self.name = name\n",
        "        self.grades = grades\n",
        "\n",
        "    def average_grade(self):\n",
        "        return sum(self.grades) / len(self.grades)\n",
        "\n"
      ],
      "metadata": {
        "id": "1iJKTfam4aDL"
      },
      "execution_count": 24,
      "outputs": []
    },
    {
      "cell_type": "code",
      "source": [],
      "metadata": {
        "id": "TFN7FfPG4f_V"
      },
      "execution_count": null,
      "outputs": []
    }
  ]
}